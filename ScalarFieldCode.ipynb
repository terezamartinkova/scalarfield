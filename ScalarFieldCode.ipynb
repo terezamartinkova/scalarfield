{
 "cells": [
  {
   "cell_type": "markdown",
   "metadata": {},
   "source": [
    "# ScalarField Assignemnt"
   ]
  },
  {
   "cell_type": "markdown",
   "metadata": {},
   "source": [
    "### Tereza Martinkova\n",
    "#### July 14, 2024"
   ]
  },
  {
   "cell_type": "markdown",
   "metadata": {},
   "source": [
    "## Question 1\n",
    "\n",
    "Write a Python function to calculate the trade performance of a given set of trades executed by a financial firm. The function should take a pandas DataFrame as input with the following columns:\n",
    "\n",
    "- Date (datetime64[ns]): The date and time of the trade\n",
    "\n",
    "- Symbol (string): The ticker symbol of the traded security\n",
    "\n",
    "- Side (string): Either 'buy' or 'sell'\n",
    "\n",
    "- Size (float, optional): The number of shares traded (default to 1 if not provided)\n",
    "\n",
    "- Price (float): The price at which the trade was executed\n",
    "\n",
    "Your task is to:\n",
    "\n",
    "- #### Choose 10 financial metrics that you believe are the most important for tracking trade performance of a strategy.\n",
    "\n",
    "- #### Write a function that takes in this DataFrame and computes these 10 metrics.\n",
    "\n",
    "- #### Account for both long and short strategies in your calculations.\n",
    "\n",
    "- #### Explain how you compute returns in the case of long-short strategies.\n",
    "\n",
    "- #### You have access to an auxiliary function:\n",
    "\n",
    "def getTickerPrice(ticker: str, date: datetime64[ns]) -> float: # This function returns the price of the security 'ticker' at the given 'date' # For the purpose of this exercise, assume it returns a random number\n",
    "return random.uniform(1, 100) # Example implementation\n",
    "Use this function to get the current market price of securities when needed for your calculations.\n",
    "\n",
    "Your function should:\n",
    "\n",
    "- Handle potential edge cases (e.g., empty DataFrame, missing values)\n",
    "\n",
    "- Be efficient in its calculations\n",
    "\n",
    "-  Return a dictionary or pandas Series with the computed metrics\n",
    "\n",
    "- Please provide the implementation of your function along with comments explaining your choice of metrics and any important calculation details.\n"
   ]
  },
  {
   "cell_type": "markdown",
   "metadata": {},
   "source": [
    "### Importing Libraries"
   ]
  },
  {
   "cell_type": "code",
   "execution_count": 1,
   "metadata": {},
   "outputs": [],
   "source": [
    "import pandas as pd\n",
    "import numpy as np\n",
    "import seaborn as sb"
   ]
  },
  {
   "cell_type": "markdown",
   "metadata": {},
   "source": [
    "## EDA"
   ]
  },
  {
   "cell_type": "code",
   "execution_count": 3,
   "metadata": {},
   "outputs": [
    {
     "data": {
      "text/html": [
       "<div>\n",
       "<style scoped>\n",
       "    .dataframe tbody tr th:only-of-type {\n",
       "        vertical-align: middle;\n",
       "    }\n",
       "\n",
       "    .dataframe tbody tr th {\n",
       "        vertical-align: top;\n",
       "    }\n",
       "\n",
       "    .dataframe thead th {\n",
       "        text-align: right;\n",
       "    }\n",
       "</style>\n",
       "<table border=\"1\" class=\"dataframe\">\n",
       "  <thead>\n",
       "    <tr style=\"text-align: right;\">\n",
       "      <th></th>\n",
       "      <th>disclosureYear</th>\n",
       "      <th>disclosureDate</th>\n",
       "      <th>transactionDate</th>\n",
       "      <th>owner</th>\n",
       "      <th>ticker</th>\n",
       "      <th>assetDescription</th>\n",
       "      <th>type</th>\n",
       "      <th>amount</th>\n",
       "      <th>representative</th>\n",
       "      <th>district</th>\n",
       "      <th>capitalGainsOver200USD</th>\n",
       "      <th>option_symbol</th>\n",
       "    </tr>\n",
       "  </thead>\n",
       "  <tbody>\n",
       "    <tr>\n",
       "      <th>0</th>\n",
       "      <td>2023</td>\n",
       "      <td>6/15/2023</td>\n",
       "      <td>5/20/2023</td>\n",
       "      <td>Spouse</td>\n",
       "      <td>AAPL</td>\n",
       "      <td>Apple Inc. Stock</td>\n",
       "      <td>Purchase</td>\n",
       "      <td>$100,001 - $250,000</td>\n",
       "      <td>Nancy Pelosi</td>\n",
       "      <td>CA-12</td>\n",
       "      <td>Yes</td>\n",
       "      <td>NaN</td>\n",
       "    </tr>\n",
       "    <tr>\n",
       "      <th>1</th>\n",
       "      <td>2023</td>\n",
       "      <td>5/12/2023</td>\n",
       "      <td>4/10/2023</td>\n",
       "      <td>Self</td>\n",
       "      <td>GOOGL</td>\n",
       "      <td>Alphabet Inc. Stock</td>\n",
       "      <td>Sale (Full)</td>\n",
       "      <td>$50,001 - $100,000</td>\n",
       "      <td>Nancy Pelosi</td>\n",
       "      <td>CA-12</td>\n",
       "      <td>No</td>\n",
       "      <td>NaN</td>\n",
       "    </tr>\n",
       "    <tr>\n",
       "      <th>2</th>\n",
       "      <td>2023</td>\n",
       "      <td>12/29/2023</td>\n",
       "      <td>12/6/2022</td>\n",
       "      <td>Dependent</td>\n",
       "      <td>AMZN</td>\n",
       "      <td>AMZN Stock</td>\n",
       "      <td>Purchase</td>\n",
       "      <td>$100,001 - $250,000</td>\n",
       "      <td>Nancy Pelosi</td>\n",
       "      <td>NY-14</td>\n",
       "      <td>Yes</td>\n",
       "      <td>NaN</td>\n",
       "    </tr>\n",
       "    <tr>\n",
       "      <th>3</th>\n",
       "      <td>2023</td>\n",
       "      <td>2/13/2022</td>\n",
       "      <td>4/14/2022</td>\n",
       "      <td>Self</td>\n",
       "      <td>AMZN</td>\n",
       "      <td>AMZN Stock</td>\n",
       "      <td>Purchase</td>\n",
       "      <td>$100,001 - $250,000</td>\n",
       "      <td>Nancy Pelosi</td>\n",
       "      <td>FL-9</td>\n",
       "      <td>No</td>\n",
       "      <td>NaN</td>\n",
       "    </tr>\n",
       "    <tr>\n",
       "      <th>4</th>\n",
       "      <td>2023</td>\n",
       "      <td>6/23/2023</td>\n",
       "      <td>3/11/2022</td>\n",
       "      <td>Joint</td>\n",
       "      <td>MSFT</td>\n",
       "      <td>MSFT Stock</td>\n",
       "      <td>Purchase</td>\n",
       "      <td>$1,001 - $15,000</td>\n",
       "      <td>Nancy Pelosi</td>\n",
       "      <td>CA-12</td>\n",
       "      <td>Yes</td>\n",
       "      <td>NaN</td>\n",
       "    </tr>\n",
       "  </tbody>\n",
       "</table>\n",
       "</div>"
      ],
      "text/plain": [
       "   disclosureYear disclosureDate transactionDate      owner ticker  \\\n",
       "0            2023      6/15/2023       5/20/2023     Spouse   AAPL   \n",
       "1            2023      5/12/2023       4/10/2023       Self  GOOGL   \n",
       "2            2023     12/29/2023       12/6/2022  Dependent   AMZN   \n",
       "3            2023      2/13/2022       4/14/2022       Self   AMZN   \n",
       "4            2023      6/23/2023       3/11/2022      Joint   MSFT   \n",
       "\n",
       "      assetDescription         type               amount representative  \\\n",
       "0     Apple Inc. Stock     Purchase  $100,001 - $250,000   Nancy Pelosi   \n",
       "1  Alphabet Inc. Stock  Sale (Full)   $50,001 - $100,000   Nancy Pelosi   \n",
       "2           AMZN Stock     Purchase  $100,001 - $250,000   Nancy Pelosi   \n",
       "3           AMZN Stock     Purchase  $100,001 - $250,000   Nancy Pelosi   \n",
       "4           MSFT Stock     Purchase     $1,001 - $15,000   Nancy Pelosi   \n",
       "\n",
       "  district capitalGainsOver200USD option_symbol  \n",
       "0    CA-12                    Yes           NaN  \n",
       "1    CA-12                     No           NaN  \n",
       "2    NY-14                    Yes           NaN  \n",
       "3     FL-9                     No           NaN  \n",
       "4    CA-12                    Yes           NaN  "
      ]
     },
     "execution_count": 3,
     "metadata": {},
     "output_type": "execute_result"
    }
   ],
   "source": [
    "data = pd.read_csv('/Users/terka/Desktop/ScalarField/testData.csv')\n",
    "data.head()"
   ]
  },
  {
   "cell_type": "markdown",
   "metadata": {},
   "source": [
    "#### Get information about data"
   ]
  },
  {
   "cell_type": "code",
   "execution_count": 12,
   "metadata": {},
   "outputs": [
    {
     "name": "stdout",
     "output_type": "stream",
     "text": [
      "Shape: (102, 12)\n",
      "Column types: \n",
      " disclosureYear             int64\n",
      "disclosureDate            object\n",
      "transactionDate           object\n",
      "owner                     object\n",
      "ticker                    object\n",
      "assetDescription          object\n",
      "type                      object\n",
      "amount                    object\n",
      "representative            object\n",
      "district                  object\n",
      "capitalGainsOver200USD    object\n",
      "option_symbol             object\n",
      "dtype: object\n"
     ]
    }
   ],
   "source": [
    "print(f'Shape:',data.shape)\n",
    "print(f'Column types: \\n',data.dtypes)\n"
   ]
  },
  {
   "cell_type": "code",
   "execution_count": 16,
   "metadata": {},
   "outputs": [
    {
     "data": {
      "text/plain": [
       "disclosureYear              0\n",
       "disclosureDate              0\n",
       "transactionDate             0\n",
       "owner                       0\n",
       "ticker                      0\n",
       "assetDescription            0\n",
       "type                        0\n",
       "amount                      0\n",
       "representative              0\n",
       "district                    0\n",
       "capitalGainsOver200USD      0\n",
       "option_symbol             100\n",
       "dtype: int64"
      ]
     },
     "execution_count": 16,
     "metadata": {},
     "output_type": "execute_result"
    }
   ],
   "source": [
    "count_nan = data.isnull().sum()\n",
    "count_nan"
   ]
  },
  {
   "cell_type": "markdown",
   "metadata": {},
   "source": [
    "### Handeling data"
   ]
  },
  {
   "cell_type": "code",
   "execution_count": 39,
   "metadata": {},
   "outputs": [
    {
     "name": "stdout",
     "output_type": "stream",
     "text": [
      "Column types: \n",
      " disclosureYear                     int64\n",
      "disclosureDate            datetime64[ns]\n",
      "transactionDate           datetime64[ns]\n",
      "owner                             string\n",
      "ticker                            string\n",
      "assetDescription                  string\n",
      "type                              string\n",
      "amount                            string\n",
      "representative                    string\n",
      "district                          string\n",
      "capitalGainsOver200USD            string\n",
      "option_symbol                     object\n",
      "dtype: object\n"
     ]
    }
   ],
   "source": [
    "data['disclosureDate'] = pd.to_datetime(data['disclosureDate'])\n",
    "data['transactionDate'] = pd.to_datetime(data['transactionDate'])\n",
    "data['owner'] = data['owner'].astype('string')\n",
    "data['ticker'] = data['ticker'].astype('string')\n",
    "data['assetDescription'] = data['assetDescription'].astype('string')\n",
    "data['type'] = data['type'].astype('string')\n",
    "data['amount'] = data['amount'].astype('string')\n",
    "data['representative'] = data['representative'].astype('string')\n",
    "data['district'] = data['district'].astype('string')\n",
    "data['capitalGainsOver200USD'] = data['capitalGainsOver200USD'].astype('string')\n",
    "\n",
    "print(f'Column types: \\n',data.dtypes)"
   ]
  },
  {
   "cell_type": "code",
   "execution_count": null,
   "metadata": {},
   "outputs": [],
   "source": [
    "option_df = data[~data['option_symbol'].isna()]\n",
    "option_df"
   ]
  },
  {
   "cell_type": "code",
   "execution_count": 51,
   "metadata": {},
   "outputs": [
    {
     "data": {
      "text/html": [
       "<div>\n",
       "<style scoped>\n",
       "    .dataframe tbody tr th:only-of-type {\n",
       "        vertical-align: middle;\n",
       "    }\n",
       "\n",
       "    .dataframe tbody tr th {\n",
       "        vertical-align: top;\n",
       "    }\n",
       "\n",
       "    .dataframe thead th {\n",
       "        text-align: right;\n",
       "    }\n",
       "</style>\n",
       "<table border=\"1\" class=\"dataframe\">\n",
       "  <thead>\n",
       "    <tr style=\"text-align: right;\">\n",
       "      <th></th>\n",
       "      <th>disclosureYear</th>\n",
       "      <th>disclosureDate</th>\n",
       "      <th>transactionDate</th>\n",
       "      <th>owner</th>\n",
       "      <th>ticker</th>\n",
       "      <th>assetDescription</th>\n",
       "      <th>type</th>\n",
       "      <th>amount</th>\n",
       "      <th>representative</th>\n",
       "      <th>district</th>\n",
       "      <th>capitalGainsOver200USD</th>\n",
       "    </tr>\n",
       "  </thead>\n",
       "  <tbody>\n",
       "    <tr>\n",
       "      <th>0</th>\n",
       "      <td>2023</td>\n",
       "      <td>2023-06-15</td>\n",
       "      <td>2023-05-20</td>\n",
       "      <td>Spouse</td>\n",
       "      <td>AAPL</td>\n",
       "      <td>Apple Inc. Stock</td>\n",
       "      <td>Purchase</td>\n",
       "      <td>$100,001 - $250,000</td>\n",
       "      <td>Nancy Pelosi</td>\n",
       "      <td>CA-12</td>\n",
       "      <td>Yes</td>\n",
       "    </tr>\n",
       "    <tr>\n",
       "      <th>1</th>\n",
       "      <td>2023</td>\n",
       "      <td>2023-05-12</td>\n",
       "      <td>2023-04-10</td>\n",
       "      <td>Self</td>\n",
       "      <td>GOOGL</td>\n",
       "      <td>Alphabet Inc. Stock</td>\n",
       "      <td>Sale (Full)</td>\n",
       "      <td>$50,001 - $100,000</td>\n",
       "      <td>Nancy Pelosi</td>\n",
       "      <td>CA-12</td>\n",
       "      <td>No</td>\n",
       "    </tr>\n",
       "    <tr>\n",
       "      <th>2</th>\n",
       "      <td>2023</td>\n",
       "      <td>2023-12-29</td>\n",
       "      <td>2022-12-06</td>\n",
       "      <td>Dependent</td>\n",
       "      <td>AMZN</td>\n",
       "      <td>AMZN Stock</td>\n",
       "      <td>Purchase</td>\n",
       "      <td>$100,001 - $250,000</td>\n",
       "      <td>Nancy Pelosi</td>\n",
       "      <td>NY-14</td>\n",
       "      <td>Yes</td>\n",
       "    </tr>\n",
       "    <tr>\n",
       "      <th>3</th>\n",
       "      <td>2023</td>\n",
       "      <td>2022-02-13</td>\n",
       "      <td>2022-04-14</td>\n",
       "      <td>Self</td>\n",
       "      <td>AMZN</td>\n",
       "      <td>AMZN Stock</td>\n",
       "      <td>Purchase</td>\n",
       "      <td>$100,001 - $250,000</td>\n",
       "      <td>Nancy Pelosi</td>\n",
       "      <td>FL-9</td>\n",
       "      <td>No</td>\n",
       "    </tr>\n",
       "    <tr>\n",
       "      <th>4</th>\n",
       "      <td>2023</td>\n",
       "      <td>2023-06-23</td>\n",
       "      <td>2022-03-11</td>\n",
       "      <td>Joint</td>\n",
       "      <td>MSFT</td>\n",
       "      <td>MSFT Stock</td>\n",
       "      <td>Purchase</td>\n",
       "      <td>$1,001 - $15,000</td>\n",
       "      <td>Nancy Pelosi</td>\n",
       "      <td>CA-12</td>\n",
       "      <td>Yes</td>\n",
       "    </tr>\n",
       "  </tbody>\n",
       "</table>\n",
       "</div>"
      ],
      "text/plain": [
       "   disclosureYear disclosureDate transactionDate      owner ticker  \\\n",
       "0            2023     2023-06-15      2023-05-20     Spouse   AAPL   \n",
       "1            2023     2023-05-12      2023-04-10       Self  GOOGL   \n",
       "2            2023     2023-12-29      2022-12-06  Dependent   AMZN   \n",
       "3            2023     2022-02-13      2022-04-14       Self   AMZN   \n",
       "4            2023     2023-06-23      2022-03-11      Joint   MSFT   \n",
       "\n",
       "      assetDescription         type               amount representative  \\\n",
       "0     Apple Inc. Stock     Purchase  $100,001 - $250,000   Nancy Pelosi   \n",
       "1  Alphabet Inc. Stock  Sale (Full)   $50,001 - $100,000   Nancy Pelosi   \n",
       "2           AMZN Stock     Purchase  $100,001 - $250,000   Nancy Pelosi   \n",
       "3           AMZN Stock     Purchase  $100,001 - $250,000   Nancy Pelosi   \n",
       "4           MSFT Stock     Purchase     $1,001 - $15,000   Nancy Pelosi   \n",
       "\n",
       "  district capitalGainsOver200USD  \n",
       "0    CA-12                    Yes  \n",
       "1    CA-12                     No  \n",
       "2    NY-14                    Yes  \n",
       "3     FL-9                     No  \n",
       "4    CA-12                    Yes  "
      ]
     },
     "execution_count": 51,
     "metadata": {},
     "output_type": "execute_result"
    }
   ],
   "source": [
    "data = data.drop(columns=['option_symbol'])\n",
    "data.head()"
   ]
  },
  {
   "cell_type": "code",
   "execution_count": 52,
   "metadata": {},
   "outputs": [
    {
     "data": {
      "text/plain": [
       "disclosureYear            0\n",
       "disclosureDate            0\n",
       "transactionDate           0\n",
       "owner                     0\n",
       "ticker                    0\n",
       "assetDescription          0\n",
       "type                      0\n",
       "amount                    0\n",
       "representative            0\n",
       "district                  0\n",
       "capitalGainsOver200USD    0\n",
       "dtype: int64"
      ]
     },
     "execution_count": 52,
     "metadata": {},
     "output_type": "execute_result"
    }
   ],
   "source": [
    "count_nan_removed = data.isnull().sum()\n",
    "count_nan_removed"
   ]
  }
 ],
 "metadata": {
  "kernelspec": {
   "display_name": "anly503",
   "language": "python",
   "name": "python3"
  },
  "language_info": {
   "codemirror_mode": {
    "name": "ipython",
    "version": 3
   },
   "file_extension": ".py",
   "mimetype": "text/x-python",
   "name": "python",
   "nbconvert_exporter": "python",
   "pygments_lexer": "ipython3",
   "version": "3.10.8"
  }
 },
 "nbformat": 4,
 "nbformat_minor": 2
}
